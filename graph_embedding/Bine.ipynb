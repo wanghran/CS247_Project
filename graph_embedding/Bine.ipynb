{
 "cells": [
  {
   "cell_type": "code",
   "execution_count": 49,
   "metadata": {},
   "outputs": [],
   "source": [
    "import numpy as np\n",
    "import pandas as pd\n",
    "import math\n",
    "import pickle\n",
    "import scipy.sparse as sp\n",
    "from sklearn.preprocessing import LabelEncoder\n",
    "import numpy as np\n",
    "import matplotlib.pyplot as plt\n",
    "import os\n",
    "from sklearn.preprocessing import LabelEncoder\n",
    "from scipy.sparse import csr_matrix, hstack\n",
    "from sklearn.linear_model import LogisticRegression\n",
    "from sklearn.metrics import log_loss\n",
    "\n"
   ]
  },
  {
   "cell_type": "code",
   "execution_count": 93,
   "metadata": {},
   "outputs": [
    {
     "name": "stdout",
     "output_type": "stream",
     "text": [
      "59716\n",
      "14929\n"
     ]
    }
   ],
   "source": [
    "f = open('../data/full_train_yx','rb')\n",
    "train = pickle.load(f)\n",
    "n_train = len(train)\n",
    "print(n_train)\n",
    "f = open('../data/full_test_yx','rb')\n",
    "test = pickle.load(f)\n",
    "n_test = len(test)\n",
    "print(n_test)"
   ]
  },
  {
   "cell_type": "code",
   "execution_count": 51,
   "metadata": {},
   "outputs": [],
   "source": [
    "datadir = '../data/'\n",
    "data1 = pd.read_csv(os.path.join(datadir,'gender_age_train.csv'),\n",
    "                      index_col='device_id')\n",
    "\n",
    "data2 = pd.read_csv(os.path.join(datadir,'gender_age_test.csv'),\n",
    "                     index_col = 'device_id')\n",
    "\n",
    "data = pd.concat([data1, data2],sort=False)\n",
    "\n",
    "gatrain = data.loc[train]\n",
    "gatest = data.loc[test]\n"
   ]
  },
  {
   "cell_type": "code",
   "execution_count": 52,
   "metadata": {},
   "outputs": [
    {
     "data": {
      "text/html": [
       "<div>\n",
       "<style scoped>\n",
       "    .dataframe tbody tr th:only-of-type {\n",
       "        vertical-align: middle;\n",
       "    }\n",
       "\n",
       "    .dataframe tbody tr th {\n",
       "        vertical-align: top;\n",
       "    }\n",
       "\n",
       "    .dataframe thead th {\n",
       "        text-align: right;\n",
       "    }\n",
       "</style>\n",
       "<table border=\"1\" class=\"dataframe\">\n",
       "  <thead>\n",
       "    <tr style=\"text-align: right;\">\n",
       "      <th></th>\n",
       "      <th>device_id</th>\n",
       "      <th>app</th>\n",
       "      <th>size</th>\n",
       "      <th>trainrow</th>\n",
       "      <th>testrow</th>\n",
       "    </tr>\n",
       "  </thead>\n",
       "  <tbody>\n",
       "    <tr>\n",
       "      <th>0</th>\n",
       "      <td>-9222956879900151005</td>\n",
       "      <td>548</td>\n",
       "      <td>18</td>\n",
       "      <td>49974.0</td>\n",
       "      <td>NaN</td>\n",
       "    </tr>\n",
       "    <tr>\n",
       "      <th>1</th>\n",
       "      <td>-9222956879900151005</td>\n",
       "      <td>1096</td>\n",
       "      <td>18</td>\n",
       "      <td>49974.0</td>\n",
       "      <td>NaN</td>\n",
       "    </tr>\n",
       "    <tr>\n",
       "      <th>2</th>\n",
       "      <td>-9222956879900151005</td>\n",
       "      <td>1248</td>\n",
       "      <td>26</td>\n",
       "      <td>49974.0</td>\n",
       "      <td>NaN</td>\n",
       "    </tr>\n",
       "    <tr>\n",
       "      <th>3</th>\n",
       "      <td>-9222956879900151005</td>\n",
       "      <td>1545</td>\n",
       "      <td>12</td>\n",
       "      <td>49974.0</td>\n",
       "      <td>NaN</td>\n",
       "    </tr>\n",
       "    <tr>\n",
       "      <th>4</th>\n",
       "      <td>-9222956879900151005</td>\n",
       "      <td>1664</td>\n",
       "      <td>18</td>\n",
       "      <td>49974.0</td>\n",
       "      <td>NaN</td>\n",
       "    </tr>\n",
       "  </tbody>\n",
       "</table>\n",
       "</div>"
      ],
      "text/plain": [
       "             device_id   app  size  trainrow  testrow\n",
       "0 -9222956879900151005   548    18   49974.0      NaN\n",
       "1 -9222956879900151005  1096    18   49974.0      NaN\n",
       "2 -9222956879900151005  1248    26   49974.0      NaN\n",
       "3 -9222956879900151005  1545    12   49974.0      NaN\n",
       "4 -9222956879900151005  1664    18   49974.0      NaN"
      ]
     },
     "execution_count": 52,
     "metadata": {},
     "output_type": "execute_result"
    }
   ],
   "source": [
    "gatrain['trainrow'] = np.arange(gatrain.shape[0],dtype=int)\n",
    "gatest['testrow'] = np.arange(gatest.shape[0],dtype=int)\n",
    "phone = pd.read_csv(os.path.join(datadir,'phone_brand_device_model.csv'))\n",
    "# Get rid of duplicate device ids in phone\n",
    "phone = phone.drop_duplicates('device_id',keep='first').set_index('device_id')\n",
    "events = pd.read_csv(os.path.join(datadir,'events.csv'),\n",
    "                     parse_dates=['timestamp'], index_col='event_id')\n",
    "appevents = pd.read_csv(os.path.join(datadir,'app_events.csv'), \n",
    "                        usecols=['event_id','app_id','is_active'],\n",
    "                        dtype={'is_active':bool})\n",
    "applabels = pd.read_csv(os.path.join(datadir,'app_labels.csv'))\n",
    "appencoder = LabelEncoder().fit(appevents.app_id)\n",
    "appevents['app'] = appencoder.transform(appevents.app_id)\n",
    "napps = len(appencoder.classes_)\n",
    "\n",
    "deviceapps = (appevents.merge(events[['device_id']], how='left',left_on='event_id',right_index=True)\n",
    "                       .groupby(['device_id','app'])['app'].agg(['size'])\n",
    "                       .merge(gatrain[['trainrow']], how='left', left_index=True, right_index=True)\n",
    "                       .merge(gatest[['testrow']], how='left', left_index=True, right_index=True)\n",
    "                       .reset_index())\n",
    "deviceapps.head()"
   ]
  },
  {
   "cell_type": "code",
   "execution_count": 92,
   "metadata": {},
   "outputs": [
    {
     "name": "stdout",
     "output_type": "stream",
     "text": [
      "14926.0\n",
      "59714.0\n",
      "59715\n"
     ]
    },
    {
     "data": {
      "text/html": [
       "<div>\n",
       "<style scoped>\n",
       "    .dataframe tbody tr th:only-of-type {\n",
       "        vertical-align: middle;\n",
       "    }\n",
       "\n",
       "    .dataframe tbody tr th {\n",
       "        vertical-align: top;\n",
       "    }\n",
       "\n",
       "    .dataframe thead th {\n",
       "        text-align: right;\n",
       "    }\n",
       "</style>\n",
       "<table border=\"1\" class=\"dataframe\">\n",
       "  <thead>\n",
       "    <tr style=\"text-align: right;\">\n",
       "      <th></th>\n",
       "      <th>device_id</th>\n",
       "      <th>app</th>\n",
       "      <th>size</th>\n",
       "      <th>trainrow</th>\n",
       "      <th>testrow</th>\n",
       "      <th>user</th>\n",
       "    </tr>\n",
       "  </thead>\n",
       "  <tbody>\n",
       "    <tr>\n",
       "      <th>0</th>\n",
       "      <td>-9222956879900151005</td>\n",
       "      <td>548</td>\n",
       "      <td>18</td>\n",
       "      <td>49974.0</td>\n",
       "      <td>0.0</td>\n",
       "      <td>49974</td>\n",
       "    </tr>\n",
       "    <tr>\n",
       "      <th>1</th>\n",
       "      <td>-9222956879900151005</td>\n",
       "      <td>1096</td>\n",
       "      <td>18</td>\n",
       "      <td>49974.0</td>\n",
       "      <td>0.0</td>\n",
       "      <td>49974</td>\n",
       "    </tr>\n",
       "    <tr>\n",
       "      <th>2</th>\n",
       "      <td>-9222956879900151005</td>\n",
       "      <td>1248</td>\n",
       "      <td>26</td>\n",
       "      <td>49974.0</td>\n",
       "      <td>0.0</td>\n",
       "      <td>49974</td>\n",
       "    </tr>\n",
       "    <tr>\n",
       "      <th>3</th>\n",
       "      <td>-9222956879900151005</td>\n",
       "      <td>1545</td>\n",
       "      <td>12</td>\n",
       "      <td>49974.0</td>\n",
       "      <td>0.0</td>\n",
       "      <td>49974</td>\n",
       "    </tr>\n",
       "    <tr>\n",
       "      <th>4</th>\n",
       "      <td>-9222956879900151005</td>\n",
       "      <td>1664</td>\n",
       "      <td>18</td>\n",
       "      <td>49974.0</td>\n",
       "      <td>0.0</td>\n",
       "      <td>49974</td>\n",
       "    </tr>\n",
       "  </tbody>\n",
       "</table>\n",
       "</div>"
      ],
      "text/plain": [
       "             device_id   app  size  trainrow  testrow   user\n",
       "0 -9222956879900151005   548    18   49974.0      0.0  49974\n",
       "1 -9222956879900151005  1096    18   49974.0      0.0  49974\n",
       "2 -9222956879900151005  1248    26   49974.0      0.0  49974\n",
       "3 -9222956879900151005  1545    12   49974.0      0.0  49974\n",
       "4 -9222956879900151005  1664    18   49974.0      0.0  49974"
      ]
     },
     "execution_count": 92,
     "metadata": {},
     "output_type": "execute_result"
    }
   ],
   "source": [
    "d = deviceapps.fillna(0)\n",
    "test_index = max(d.trainrow) + 1\n",
    "test_index = int(test_index)\n",
    "print(test_index)\n",
    "user = d.trainrow + (d.testrow != 0) * ( test_index + d.testrow)\n",
    "d['user'] = user\n",
    "d.user = d.user.astype(int)\n",
    "d.head()"
   ]
  },
  {
   "cell_type": "code",
   "execution_count": 91,
   "metadata": {},
   "outputs": [
    {
     "name": "stdout",
     "output_type": "stream",
     "text": [
      "23291\n"
     ]
    },
    {
     "data": {
      "text/html": [
       "<div>\n",
       "<style scoped>\n",
       "    .dataframe tbody tr th:only-of-type {\n",
       "        vertical-align: middle;\n",
       "    }\n",
       "\n",
       "    .dataframe tbody tr th {\n",
       "        vertical-align: top;\n",
       "    }\n",
       "\n",
       "    .dataframe thead th {\n",
       "        text-align: right;\n",
       "    }\n",
       "</style>\n",
       "<table border=\"1\" class=\"dataframe\">\n",
       "  <thead>\n",
       "    <tr style=\"text-align: right;\">\n",
       "      <th></th>\n",
       "      <th>user</th>\n",
       "      <th>app</th>\n",
       "      <th>size</th>\n",
       "    </tr>\n",
       "  </thead>\n",
       "  <tbody>\n",
       "    <tr>\n",
       "      <th>0</th>\n",
       "      <td>49974</td>\n",
       "      <td>548</td>\n",
       "      <td>18</td>\n",
       "    </tr>\n",
       "    <tr>\n",
       "      <th>1</th>\n",
       "      <td>49974</td>\n",
       "      <td>1096</td>\n",
       "      <td>18</td>\n",
       "    </tr>\n",
       "    <tr>\n",
       "      <th>2</th>\n",
       "      <td>49974</td>\n",
       "      <td>1248</td>\n",
       "      <td>26</td>\n",
       "    </tr>\n",
       "    <tr>\n",
       "      <th>3</th>\n",
       "      <td>49974</td>\n",
       "      <td>1545</td>\n",
       "      <td>12</td>\n",
       "    </tr>\n",
       "    <tr>\n",
       "      <th>4</th>\n",
       "      <td>49974</td>\n",
       "      <td>1664</td>\n",
       "      <td>18</td>\n",
       "    </tr>\n",
       "  </tbody>\n",
       "</table>\n",
       "</div>"
      ],
      "text/plain": [
       "    user   app  size\n",
       "0  49974   548    18\n",
       "1  49974  1096    18\n",
       "2  49974  1248    26\n",
       "3  49974  1545    12\n",
       "4  49974  1664    18"
      ]
     },
     "execution_count": 91,
     "metadata": {},
     "output_type": "execute_result"
    }
   ],
   "source": [
    "N_users = max(d.user) + 1\n",
    "\n",
    "print(N_users)\n",
    "adj_matrix = d[['user', 'app','size']].copy()\n",
    "adj_matrix.head()"
   ]
  },
  {
   "cell_type": "code",
   "execution_count": 82,
   "metadata": {},
   "outputs": [
    {
     "name": "stdout",
     "output_type": "stream",
     "text": [
      "2369025\n"
     ]
    }
   ],
   "source": [
    "# write bipartite graph to file\n",
    "f = open(\"weights.txt\", \"w+\")\n",
    "A = adj_matrix.values\n",
    "N = A.shape[0]\n",
    "for i in range(N):\n",
    "    f.write(\"u\"+str(A[i,0])+'\\ti'+str(A[i,1])+'\\t'+str(A[i,2])+'\\n')"
   ]
  },
  {
   "cell_type": "code",
   "execution_count": 115,
   "metadata": {},
   "outputs": [],
   "source": [
    "# load embeddings\n",
    "d = 64 # latent dimension\n",
    "f_name = \"vec_u.dat\""
   ]
  },
  {
   "cell_type": "code",
   "execution_count": 116,
   "metadata": {},
   "outputs": [
    {
     "name": "stdout",
     "output_type": "stream",
     "text": [
      "(59716, 64)\n"
     ]
    }
   ],
   "source": [
    "X = np.zeros((n_train+n_test,d))\n",
    "\n",
    "with open(f_name) as f:\n",
    "    D = f.readlines()\n",
    "for line in D:\n",
    "    vals = np.zeros(d)\n",
    "    data = line.split(' ')\n",
    "    index = int(data[0][1:])\n",
    "    for i in range(d):\n",
    "        vals[i] = float(data[i+1])\n",
    "    X[index,:] = vals\n",
    "\n",
    "Xtr = X[0:n_train,:]\n",
    "Xte = X[n_train:,:]\n",
    "print(Xtr.shape)"
   ]
  },
  {
   "cell_type": "code",
   "execution_count": 69,
   "metadata": {},
   "outputs": [],
   "source": [
    "# subset\n",
    "subset = False\n",
    "if subset:\n",
    "    idx = np.sort(idx)\n",
    "    X_train = X_train[idx,:]"
   ]
  },
  {
   "cell_type": "code",
   "execution_count": 70,
   "metadata": {},
   "outputs": [
    {
     "name": "stdout",
     "output_type": "stream",
     "text": [
      "Brand features: train shape (59716, 131), test shape (14929, 131)\n"
     ]
    }
   ],
   "source": [
    "brandencoder = LabelEncoder().fit(phone.phone_brand)\n",
    "phone['brand'] = brandencoder.transform(phone['phone_brand'])\n",
    "gatrain['brand'] = phone['brand']\n",
    "gatest['brand'] = phone['brand']\n",
    "Xtr_brand = csr_matrix((np.ones(gatrain.shape[0]), \n",
    "                       (gatrain.trainrow, gatrain.brand)))\n",
    "Xte_brand = csr_matrix((np.ones(gatest.shape[0]), \n",
    "                       (gatest.testrow, gatest.brand)))\n",
    "print('Brand features: train shape {}, test shape {}'.format(Xtr_brand.shape, Xte_brand.shape))"
   ]
  },
  {
   "cell_type": "code",
   "execution_count": 71,
   "metadata": {},
   "outputs": [
    {
     "name": "stdout",
     "output_type": "stream",
     "text": [
      "Apps data: train shape (59716, 19237), test shape (14929, 19237)\n"
     ]
    }
   ],
   "source": [
    "d = deviceapps.dropna(subset=['trainrow'])\n",
    "Xtr_app = csr_matrix((np.ones(d.shape[0]), (d.trainrow, d.app)), \n",
    "                      shape=(gatrain.shape[0],napps))\n",
    "d = deviceapps.dropna(subset=['testrow'])\n",
    "Xte_app = csr_matrix((np.ones(d.shape[0]), (d.testrow, d.app)), \n",
    "                      shape=(gatest.shape[0],napps))\n",
    "print('Apps data: train shape {}, test shape {}'.format(Xtr_app.shape, Xte_app.shape))"
   ]
  },
  {
   "cell_type": "code",
   "execution_count": 72,
   "metadata": {},
   "outputs": [
    {
     "name": "stdout",
     "output_type": "stream",
     "text": [
      "Labels data: train shape (59716, 492), test shape (14929, 492)\n"
     ]
    }
   ],
   "source": [
    "applabels = applabels.loc[applabels.app_id.isin(appevents.app_id.unique())]\n",
    "applabels['app'] = appencoder.transform(applabels.app_id)\n",
    "labelencoder = LabelEncoder().fit(applabels.label_id)\n",
    "applabels['label'] = labelencoder.transform(applabels.label_id)\n",
    "nlabels = len(labelencoder.classes_)\n",
    "devicelabels = (deviceapps[['device_id','app']]\n",
    "                .merge(applabels[['app','label']])\n",
    "                .groupby(['device_id','label'])['app'].agg(['size'])\n",
    "                .merge(gatrain[['trainrow']], how='left', left_index=True, right_index=True)\n",
    "                .merge(gatest[['testrow']], how='left', left_index=True, right_index=True)\n",
    "                .reset_index())\n",
    "devicelabels.head()\n",
    "\n",
    "d = devicelabels.dropna(subset=['trainrow'])\n",
    "Xtr_label = csr_matrix((np.ones(d.shape[0]), (d.trainrow, d.label)), \n",
    "                      shape=(gatrain.shape[0],nlabels))\n",
    "d = devicelabels.dropna(subset=['testrow'])\n",
    "Xte_label = csr_matrix((np.ones(d.shape[0]), (d.testrow, d.label)), \n",
    "                      shape=(gatest.shape[0],nlabels))\n",
    "print('Labels data: train shape {}, test shape {}'.format(Xtr_label.shape, Xte_label.shape))"
   ]
  },
  {
   "cell_type": "code",
   "execution_count": 73,
   "metadata": {},
   "outputs": [
    {
     "name": "stdout",
     "output_type": "stream",
     "text": [
      "Model features: train shape (59716, 1667), test shape (14929, 1667)\n"
     ]
    }
   ],
   "source": [
    "m = phone.phone_brand.str.cat(phone.device_model)\n",
    "modelencoder = LabelEncoder().fit(m)\n",
    "phone['model'] = modelencoder.transform(m)\n",
    "gatrain['model'] = phone['model']\n",
    "gatest['model'] = phone['model']\n",
    "Xtr_model = csr_matrix((np.ones(gatrain.shape[0]), \n",
    "                       (gatrain.trainrow, gatrain.model)))\n",
    "Xte_model = csr_matrix((np.ones(gatest.shape[0]), \n",
    "                       (gatest.testrow, gatest.model)))\n",
    "print('Model features: train shape {}, test shape {}'.format(Xtr_model.shape, Xte_model.shape))"
   ]
  },
  {
   "cell_type": "code",
   "execution_count": 74,
   "metadata": {},
   "outputs": [
    {
     "data": {
      "text/html": [
       "<div>\n",
       "<style scoped>\n",
       "    .dataframe tbody tr th:only-of-type {\n",
       "        vertical-align: middle;\n",
       "    }\n",
       "\n",
       "    .dataframe tbody tr th {\n",
       "        vertical-align: top;\n",
       "    }\n",
       "\n",
       "    .dataframe thead th {\n",
       "        text-align: right;\n",
       "    }\n",
       "</style>\n",
       "<table border=\"1\" class=\"dataframe\">\n",
       "  <thead>\n",
       "    <tr style=\"text-align: right;\">\n",
       "      <th></th>\n",
       "      <th>trainrow</th>\n",
       "      <th>group</th>\n",
       "    </tr>\n",
       "    <tr>\n",
       "      <th>device_id</th>\n",
       "      <th></th>\n",
       "      <th></th>\n",
       "    </tr>\n",
       "  </thead>\n",
       "  <tbody>\n",
       "    <tr>\n",
       "      <th>3939996495880662904</th>\n",
       "      <td>0</td>\n",
       "      <td>8</td>\n",
       "    </tr>\n",
       "    <tr>\n",
       "      <th>-5127195038907890249</th>\n",
       "      <td>1</td>\n",
       "      <td>0</td>\n",
       "    </tr>\n",
       "    <tr>\n",
       "      <th>3074841628121636464</th>\n",
       "      <td>2</td>\n",
       "      <td>10</td>\n",
       "    </tr>\n",
       "    <tr>\n",
       "      <th>1930589242199599785</th>\n",
       "      <td>3</td>\n",
       "      <td>10</td>\n",
       "    </tr>\n",
       "    <tr>\n",
       "      <th>-2845082486521958712</th>\n",
       "      <td>4</td>\n",
       "      <td>10</td>\n",
       "    </tr>\n",
       "  </tbody>\n",
       "</table>\n",
       "</div>"
      ],
      "text/plain": [
       "                      trainrow  group\n",
       "device_id                            \n",
       " 3939996495880662904         0      8\n",
       "-5127195038907890249         1      0\n",
       " 3074841628121636464         2     10\n",
       " 1930589242199599785         3     10\n",
       "-2845082486521958712         4     10"
      ]
     },
     "execution_count": 74,
     "metadata": {},
     "output_type": "execute_result"
    }
   ],
   "source": [
    "labels = gatrain[['trainrow','group']].copy()\n",
    "labels.group = labels.group.astype('category')\n",
    "labels.group = labels.group.cat.codes\n",
    "labels.head()"
   ]
  },
  {
   "cell_type": "code",
   "execution_count": 75,
   "metadata": {},
   "outputs": [],
   "source": [
    "targetencoder = LabelEncoder().fit(gatrain.group)\n",
    "y = targetencoder.transform(gatrain.group)\n",
    "nclasses = len(targetencoder.classes_)"
   ]
  },
  {
   "cell_type": "code",
   "execution_count": 76,
   "metadata": {},
   "outputs": [],
   "source": [
    "if subset:\n",
    "    y = y[idx]\n",
    "    Xtr_brand = Xtr_brand[idx,:]\n",
    "    Xtr_model = Xtr_model[idx,:]\n",
    "    Xtr_app = Xtr_app[idx,:]\n",
    "    Xtr_label = Xtr_label[idx,:]"
   ]
  },
  {
   "cell_type": "code",
   "execution_count": 117,
   "metadata": {},
   "outputs": [
    {
     "name": "stdout",
     "output_type": "stream",
     "text": [
      "All features: train shape (59716, 21591), test shape (14929, 21591)\n"
     ]
    }
   ],
   "source": [
    "# concatenate feature vectors\n",
    "Xtrain = hstack((Xtr_brand, Xtr_model, Xtr_app, Xtr_label, Xtr), format='csr')\n",
    "Xtest =  hstack((Xte_brand, Xte_model, Xte_app, Xte_label, Xte), format='csr')\n",
    "print('All features: train shape {}, test shape {}'.format(Xtrain.shape, Xtest.shape))"
   ]
  },
  {
   "cell_type": "code",
   "execution_count": 99,
   "metadata": {},
   "outputs": [],
   "source": [
    "from sklearn.model_selection import StratifiedKFold\n",
    "def score(clf,n=1, random_state = 0):\n",
    "    kf = StratifiedKFold(n_splits=5, shuffle=True, random_state=random_state)\n",
    "    pred = np.zeros((y.shape[0],nclasses))\n",
    "    avg_acc = 0\n",
    "    reg_acc = 0\n",
    "    for itrain, itest in kf.split(Xtrain, y):\n",
    "        Xtr, Xte = Xtrain[itrain, :], Xtrain[itest, :]\n",
    "        ytr, yte = y[itrain], y[itest]\n",
    "        clf.fit(Xtr, ytr)\n",
    "        pred[itest,:] = clf.predict_proba(Xte)\n",
    "        reg_acc += clf.score(Xte,yte)\n",
    "        best_n = np.argsort(pred[itest,:], axis=1)[:,-n:] # top 3\n",
    "        if n==1:\n",
    "            acc = clf.score(Xte,yte)\n",
    "        else:\n",
    "            acc = 0\n",
    "            m = best_n.shape[0]\n",
    "            for i in range(m):\n",
    "                if yte[i] in list(best_n[i,:]):\n",
    "                    acc += 1\n",
    "            acc = acc / np.float(m)\n",
    "        avg_acc += acc\n",
    "    avg_acc = avg_acc/np.float(5)\n",
    "    reg_acc = reg_acc/np.float(5)\n",
    "    return (reg_acc, avg_acc), log_loss(y, pred)"
   ]
  },
  {
   "cell_type": "code",
   "execution_count": 101,
   "metadata": {},
   "outputs": [
    {
     "name": "stdout",
     "output_type": "stream",
     "text": [
      "0.001\n",
      "Accuracy: 0.1780772677130522\n",
      "Accuracy@3 0.43361918574333763\n",
      "0.01\n",
      "Accuracy: 0.1942370349504019\n",
      "Accuracy@3 0.4613509648120225\n",
      "0.1\n",
      "Accuracy: 0.19423630308359846\n",
      "Accuracy@3 0.4598108322436166\n",
      "1\n",
      "Accuracy: 0.18283277860312122\n",
      "Accuracy@3 0.44117171825794477\n"
     ]
    }
   ],
   "source": [
    "Cs = [0.001,0.01,0.1,1]\n",
    "for c in Cs:\n",
    "    print(c)\n",
    "    clf = LogisticRegression(C=c,multi_class='multinomial',solver='newton-cg',max_iter=1000)\n",
    "    acc, loss = score(clf,3)\n",
    "    print(\"Accuracy:\",acc[0])\n",
    "    print(\"Accuracy@3\",acc[1])"
   ]
  },
  {
   "cell_type": "code",
   "execution_count": 118,
   "metadata": {},
   "outputs": [
    {
     "name": "stdout",
     "output_type": "stream",
     "text": [
      "Accuracy 0.19753499899524415\n",
      "Accuracy@3 0.46252260700649744\n"
     ]
    }
   ],
   "source": [
    "# Test\n",
    "targetencoder = LabelEncoder().fit(gatest.group)\n",
    "y_test = targetencoder.transform(gatest.group)\n",
    "\n",
    "c = 0.01\n",
    "clf = LogisticRegression(C=c,multi_class='multinomial',solver='newton-cg',max_iter=1000).fit(Xtrain,y)\n",
    "acc = clf.score(Xtest,y_test)\n",
    "print(\"Accuracy\", acc)\n",
    "\n",
    "n = 3 # top 3\n",
    "pred= clf.predict_proba(Xtest)\n",
    "best_n = np.argsort(pred, axis=1)[:,-n:] # top 3\n",
    "acc = 0\n",
    "m = best_n.shape[0]\n",
    "for i in range(m):\n",
    "    if y_test[i] in list(best_n[i,:]):\n",
    "        acc += 1\n",
    "acc = acc / np.float(m)\n",
    "print(\"Accuracy@3\", acc)"
   ]
  },
  {
   "cell_type": "code",
   "execution_count": null,
   "metadata": {},
   "outputs": [],
   "source": []
  }
 ],
 "metadata": {
  "celltoolbar": "Raw Cell Format",
  "kernelspec": {
   "display_name": "Python 3",
   "language": "python",
   "name": "python3"
  },
  "language_info": {
   "codemirror_mode": {
    "name": "ipython",
    "version": 3
   },
   "file_extension": ".py",
   "mimetype": "text/x-python",
   "name": "python",
   "nbconvert_exporter": "python",
   "pygments_lexer": "ipython3",
   "version": "3.7.0"
  }
 },
 "nbformat": 4,
 "nbformat_minor": 2
}
