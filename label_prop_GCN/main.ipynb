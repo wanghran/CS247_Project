{
 "cells": [
  {
   "cell_type": "code",
   "execution_count": 1,
   "metadata": {
    "colab": {
     "base_uri": "https://localhost:8080/",
     "height": 127
    },
    "colab_type": "code",
    "executionInfo": {
     "elapsed": 84246,
     "status": "ok",
     "timestamp": 1560368896005,
     "user": {
      "displayName": "YAXUAN ZHU",
      "photoUrl": "",
      "userId": "17993149116436288201"
     },
     "user_tz": 420
    },
    "id": "WHeRx6NchWpr",
    "outputId": "f0df9fe7-0a61-4eb1-b137-ea43ab226508"
   },
   "outputs": [
    {
     "name": "stdout",
     "output_type": "stream",
     "text": [
      "Go to this URL in a browser: https://accounts.google.com/o/oauth2/auth?client_id=947318989803-6bn6qk8qdgf4n4g3pfee6491hc0brc4i.apps.googleusercontent.com&redirect_uri=urn%3Aietf%3Awg%3Aoauth%3A2.0%3Aoob&scope=email%20https%3A%2F%2Fwww.googleapis.com%2Fauth%2Fdocs.test%20https%3A%2F%2Fwww.googleapis.com%2Fauth%2Fdrive%20https%3A%2F%2Fwww.googleapis.com%2Fauth%2Fdrive.photos.readonly%20https%3A%2F%2Fwww.googleapis.com%2Fauth%2Fpeopleapi.readonly&response_type=code\n",
      "\n",
      "Enter your authorization code:\n",
      "··········\n",
      "Mounted at /content/gdrive\n"
     ]
    }
   ],
   "source": [
    "from google.colab import drive\n",
    "drive.mount('/content/gdrive')"
   ]
  },
  {
   "cell_type": "code",
   "execution_count": 2,
   "metadata": {
    "colab": {
     "base_uri": "https://localhost:8080/",
     "height": 161
    },
    "colab_type": "code",
    "executionInfo": {
     "elapsed": 219,
     "status": "ok",
     "timestamp": 1560368898207,
     "user": {
      "displayName": "YAXUAN ZHU",
      "photoUrl": "",
      "userId": "17993149116436288201"
     },
     "user_tz": 420
    },
    "id": "qLQqxdCohk-i",
    "outputId": "189e57ce-1b05-4776-b8c8-0156d42d1694"
   },
   "outputs": [
    {
     "data": {
      "text/plain": [
       "[PosixPath('gdrive/My Drive/247/.gitignore'),\n",
       " PosixPath('gdrive/My Drive/247/data_explore.ipynb'),\n",
       " PosixPath('gdrive/My Drive/247/GCN2.ipynb'),\n",
       " PosixPath('gdrive/My Drive/247/CS247_pre.gslides'),\n",
       " PosixPath('gdrive/My Drive/247/GCN_copy.ipynb'),\n",
       " PosixPath('gdrive/My Drive/247/data_original'),\n",
       " PosixPath('gdrive/My Drive/247/data'),\n",
       " PosixPath('gdrive/My Drive/247/GCN.ipynb')]"
      ]
     },
     "execution_count": 2,
     "metadata": {
      "tags": []
     },
     "output_type": "execute_result"
    }
   ],
   "source": [
    "from pathlib import Path\n",
    "ROOT = Path('.')\n",
    "gdrive = ROOT/'gdrive'/'My Drive'/'247'\n",
    "\n",
    "list(gdrive.iterdir())"
   ]
  },
  {
   "cell_type": "code",
   "execution_count": 0,
   "metadata": {
    "colab": {},
    "colab_type": "code",
    "id": "Z8zLxOV2g-Dk"
   },
   "outputs": [],
   "source": [
    "import os\n",
    "import math\n",
    "import time\n",
    "import torch\n",
    "import torch.nn as nn\n",
    "import torch.nn.functional as F\n",
    "from torch.nn.parameter import Parameter\n",
    "from torch.nn.modules.module import Module\n",
    "import torch.optim as optim\n",
    "\n",
    "import numpy as np\n",
    "import pandas as pd\n",
    "import argparse\n",
    "import scipy.sparse as sp\n",
    "import pickle\n",
    "import easydict\n",
    "from sklearn.preprocessing import normalize\n",
    "from sklearn.metrics import log_loss, accuracy_score, confusion_matrix\n",
    "from sklearn.utils.multiclass import unique_labels\n",
    "from matplotlib import pyplot as plt"
   ]
  },
  {
   "cell_type": "code",
   "execution_count": 0,
   "metadata": {
    "colab": {},
    "colab_type": "code",
    "id": "aMUtQjl-g-Dp"
   },
   "outputs": [],
   "source": [
    "class GraphConvolution(Module):\n",
    "    \"\"\"\n",
    "    Simple rGCN layer, similar to https://arxiv.org/abs/1703.06103\n",
    "    :param num_relation: number of different relations in the data\n",
    "    :param num_neighbors: a #relation x #node x 1 matrix that denotes number of neighbors of a node in a relation\n",
    "    :param in_features: number of feature of the input\n",
    "    :param out_features: number of feature of the ouput\n",
    "    :param bias: if bias is added, default is True\n",
    "    :type num_relation: int\n",
    "    :type num_relation: int\n",
    "    :type num_neighbors: array-like object, must be 3 dimension\n",
    "    :type in_features: int\n",
    "    :type out_features: int\n",
    "    :type bias: bool\n",
    "    \"\"\"\n",
    "\n",
    "    def __init__(self, num_relation, num_neighbors, in_features, out_features, num_child, bias=True):\n",
    "        super(GraphConvolution, self).__init__()\n",
    "        self.in_features = in_features\n",
    "        self.out_features = out_features\n",
    "        self.adj_weight = Parameter(nn.init.kaiming_uniform_(torch.FloatTensor(num_relation, in_features, out_features)))\n",
    "        self.num_neighbors = num_neighbors\n",
    "        self.feature_weight = Parameter(nn.init.kaiming_uniform_(torch.FloatTensor(in_features, out_features)))\n",
    "        self.attention = Parameter(nn.init.uniform_(torch.FloatTensor(num_relation)))\n",
    "        self.importance = Parameter(nn.init.uniform_(torch.FloatTensor(num_child), -1.0, 1.0))\n",
    "        if bias:\n",
    "            self.bias = Parameter(torch.FloatTensor(out_features))\n",
    "        else:\n",
    "            self.register_parameter('bias', None)\n",
    "        self.reset_parameters()\n",
    "\n",
    "    def reset_parameters(self):\n",
    "        stdv = 1. / math.sqrt(self.adj_weight.size(2))\n",
    "        # self.weight.data.uniform_(-stdv, stdv)\n",
    "        # self.adj_weight.data.uniform_(-stdv, stdv)\n",
    "        if self.bias is not None:\n",
    "            self.bias.data.uniform_(-stdv, stdv)\n",
    "\n",
    "    def forward(self, input, adjs, idx = None):\n",
    "        outputs = []\n",
    "        num_node = adjs[0].shape[0]\n",
    "        if idx is not None:\n",
    "            cur_importance = torch.reshape(torch.sigmoid(self.importance[idx]), (-1,1))\n",
    "        else:\n",
    "            cur_importance = torch.reshape(torch.sigmoid(self.importance), (-1, 1))\n",
    "        for i in range(len(self.adj_weight)):\n",
    "            support = torch.mm(input, self.adj_weight[i])\n",
    "            support = cur_importance * support\n",
    "            output = torch.spmm(adjs[i], support)\n",
    "#             output = output / self.num_neighbors[i]\n",
    "            output = output * F.softmax(self.attention, dim=0)[i]\n",
    "            outputs.append(output)\n",
    "        output = sum(outputs)\n",
    "#         output = self.normalization(outputs)\n",
    "        # feature_out = torch.mm(input, self.feature_weight)\n",
    "        if self.bias is not None:\n",
    "            return output + self.bias\n",
    "        else:\n",
    "            return output\n",
    "\n",
    "    def normalization(self, embedding: list) -> torch.Tensor:\n",
    "        relations = []\n",
    "        total_sum = 0.0\n",
    "        for emb in embedding:\n",
    "            relations.append(torch.sum(emb, dim=0))\n",
    "        total_sum = sum(relations)\n",
    "        relations = [relation / total_sum for relation in relations]\n",
    "\n",
    "        # print(f\"relation size {len(relations)}\")\n",
    "\n",
    "        relation_normalization = 0\n",
    "        outputs = 0\n",
    "        if embedding[0].device == 'cuda':\n",
    "            relation_normalization = torch.stack(relations, dim=0).cuda()\n",
    "            outputs = torch.stack(embedding, dim=0).cuda()\n",
    "        else:\n",
    "            relation_normalization = torch.stack(relations, dim=0)\n",
    "            outputs = torch.stack(embedding, dim=0)\n",
    "        assert type(relation_normalization) == torch.Tensor\n",
    "        assert type(outputs) == torch.Tensor\n",
    "\n",
    "        attention = []\n",
    "        for i in range(embedding[0].size(1)):\n",
    "            attention.append(self.attention)\n",
    "        attention = torch.stack(attention, dim=1)\n",
    "        attention = F.softmax(attention * relation_normalization, dim=0).reshape(len(embedding), 1, embedding[0].size(1))\n",
    "        outputs = attention * outputs\n",
    "        return torch.sum(outputs, dim=0)\n",
    "\n",
    "    def __repr__(self):\n",
    "        return self.__class__.__name__ + ' (' + str(self.in_features) + ' -> ' + str(self.out_features) + ')'"
   ]
  },
  {
   "cell_type": "code",
   "execution_count": 0,
   "metadata": {
    "colab": {},
    "colab_type": "code",
    "id": "Mh9Ns4AWg-Dr"
   },
   "outputs": [],
   "source": [
    "class rGCN(nn.Module):\n",
    "    def __init__(self, num_relation, nfeat, nhid, nclass, dropout, num_people, num_device):\n",
    "        super(rGCN, self).__init__()\n",
    "\n",
    "        self.gc1 = GraphConvolution(num_relation, None, nfeat, nhid, num_people)\n",
    "        self.gc2 = GraphConvolution(num_relation, None, nhid, nhid, num_device)\n",
    "        self.final_pred_weight1 = Parameter(nn.init.kaiming_uniform_(torch.FloatTensor(21396, nhid)))\n",
    "        self.final_pred_weight2 = Parameter(nn.init.kaiming_uniform_(torch.FloatTensor(2 * nhid, nclass)))\n",
    "        self.dropout = dropout\n",
    "\n",
    "        \n",
    "    def forward(self, x, extra_fea, adjs1, adjs2, idx):\n",
    "        x = F.relu(self.gc1(x, adjs1, idx))\n",
    "        x = F.dropout(x, 0.4, training=self.training)\n",
    "        extra_out = F.dropout(F.relu(torch.spmm(extra_fea, self.final_pred_weight1)),self.dropout, training=self.training)\n",
    "        x_out = self.gc2(x, adjs2, None)\n",
    "        x_out =torch.cat([x_out, extra_out], 1)\n",
    "        final_out = torch.mm(x_out, self.final_pred_weight2)\n",
    "        return F.log_softmax(final_out, dim=1)"
   ]
  },
  {
   "cell_type": "code",
   "execution_count": 0,
   "metadata": {
    "colab": {},
    "colab_type": "code",
    "id": "FCAEuZszg-Dt"
   },
   "outputs": [],
   "source": [
    "def accuracy(output, labels):\n",
    "    preds = output.max(1)[1].type_as(labels)\n",
    "    correct = preds.eq(labels).double()\n",
    "    correct = correct.sum()\n",
    "    return correct / len(labels)\n",
    "\n",
    "def sparse_mx_to_torch_sparse_tensor(sparse_mx):\n",
    "    \"\"\"Convert a scipy sparse matrix to a torch sparse tensor.\"\"\"\n",
    "    sparse_mx = sparse_mx.tocoo().astype(np.float32)\n",
    "    indices = torch.from_numpy(\n",
    "        np.vstack((sparse_mx.row, sparse_mx.col)).astype(np.int64))\n",
    "    values = torch.from_numpy(sparse_mx.data)\n",
    "    shape = torch.Size(sparse_mx.shape)\n",
    "    return torch.sparse.FloatTensor(indices, values, shape)\n",
    "\n",
    "def plot_confusion_matrix(y_true, output, classes,\n",
    "                          normalize=False,\n",
    "                          title=None,\n",
    "                          cmap=plt.cm.Blues, filename = None):\n",
    "    \"\"\"\n",
    "    This function prints and plots the confusion matrix.\n",
    "    Normalization can be applied by setting `normalize=True`.\n",
    "    \"\"\"\n",
    "    y_pred = output.max(1)[1].type_as(y_true)\n",
    "    if not title:\n",
    "        if normalize:\n",
    "            title = 'Normalized confusion matrix'\n",
    "        else:\n",
    "            title = 'Confusion matrix, without normalization'\n",
    "\n",
    "    # Compute confusion matrix\n",
    "    cm = confusion_matrix(y_true, y_pred)\n",
    "    # Only use the labels that appear in the data\n",
    "    classes = classes[unique_labels(y_true, y_pred)]\n",
    "    if normalize:\n",
    "        cm = cm.astype('float') / cm.sum(axis=1)[:, np.newaxis]\n",
    "        print(\"Normalized confusion matrix\")\n",
    "    else:\n",
    "        print('Confusion matrix, without normalization')\n",
    "\n",
    "    #print(cm)\n",
    "\n",
    "    fig, ax = plt.subplots()\n",
    "    im = ax.imshow(cm, interpolation='nearest', cmap=cmap)\n",
    "    ax.figure.colorbar(im, ax=ax)\n",
    "    # We want to show all ticks...\n",
    "    ax.set(xticks=np.arange(cm.shape[1]),\n",
    "           yticks=np.arange(cm.shape[0]),\n",
    "           # ... and label them with the respective list entries\n",
    "           xticklabels=classes, yticklabels=classes,\n",
    "           title=title,\n",
    "           ylabel='True label',\n",
    "           xlabel='Predicted label')\n",
    "\n",
    "    # Rotate the tick labels and set their alignment.\n",
    "    plt.setp(ax.get_xticklabels(), rotation=45, ha=\"right\",\n",
    "             rotation_mode=\"anchor\")\n",
    "\n",
    "    # Loop over data dimensions and create text annotations.\n",
    "    fmt = '.2f' if normalize else 'd'\n",
    "    thresh = cm.max() / 2.\n",
    "    for i in range(cm.shape[0]):\n",
    "        for j in range(cm.shape[1]):\n",
    "            ax.text(j, i, format(cm[i, j], fmt),\n",
    "                    ha=\"center\", va=\"center\",\n",
    "                    color=\"white\" if cm[i, j] > thresh else \"black\", fontsize=6.5)\n",
    "    fig.tight_layout()\n",
    "    if filename:\n",
    "        np.save(filename + '.npy', cm)\n",
    "        fig.savefig(filename + '.png')\n",
    "    return ax\n",
    "\n",
    "def top_k_accuracy(output, labels, k):\n",
    "    pred = torch.topk(output, k, dim=1)[1].type_as(labels)\n",
    "    correct = pred.eq(labels.view(-1, 1).expand_as(pred)).double()\n",
    "    correct = correct.sum()\n",
    "    return correct / len(labels)"
   ]
  },
  {
   "cell_type": "code",
   "execution_count": 0,
   "metadata": {
    "colab": {},
    "colab_type": "code",
    "id": "MFujNTKbg-Dy"
   },
   "outputs": [],
   "source": [
    "def train(data, model, optimizer, epoch):\n",
    "#     features, adjs, idx_train, idx_val, labels = data\n",
    "    [adjs, adjs_T, train_idx, test_idx, train_wapp_idx, device_applabel, labels] = data\n",
    "    \n",
    "    active, installed = adjs\n",
    "    active_T, installed_T = adjs_T\n",
    "    best_test = 0\n",
    "    for i in range(epoch):\n",
    "        t = time.time()\n",
    "        model.train()\n",
    "        optimizer.zero_grad()\n",
    "        l1_act = sparse_mx_to_torch_sparse_tensor(active_T[:, train_idx])\n",
    "        l1_ins = sparse_mx_to_torch_sparse_tensor(installed_T[:, train_idx])\n",
    "        l2_act = sparse_mx_to_torch_sparse_tensor(active[train_idx])\n",
    "        l2_ins = sparse_mx_to_torch_sparse_tensor(installed[train_idx])\n",
    "        extra_fea = sparse_mx_to_torch_sparse_tensor(device_applabel[train_idx])\n",
    "        \n",
    "        if torch.cuda.is_available():\n",
    "            l1_act = l1_act.cuda(0)\n",
    "            l2_act = l2_act.cuda(0)\n",
    "            l1_ins = l1_ins.cuda(0)\n",
    "            l2_ins = l2_ins.cuda(0)\n",
    "            extra_fea = extra_fea.cuda(0)\n",
    "            labels = labels.cuda(0)\n",
    "\n",
    "        adj1 = [l1_act, l1_ins]\n",
    "        adj2 = [l2_act, l2_ins]\n",
    "        \n",
    "        \n",
    "        features = F.one_hot(labels[train_idx]).float()\n",
    "        cur_label = labels[train_idx]\n",
    "\n",
    "\n",
    "        output = model(features, extra_fea, adj1, adj2, train_wapp_idx)\n",
    "        loss_train = F.nll_loss(output, cur_label)\n",
    "        acc_train = accuracy(output, cur_label)\n",
    "        loss_train.backward()\n",
    "        optimizer.step()\n",
    "        print('Epoch: {:04d}'.format(i+1), 'loss_train: {:.4f}'.format(loss_train.item()), 'acc_train: {:.4f}'.format(acc_train.item()),'time: {:.4f}s'.format(time.time() - t))   \n",
    "        if i % 5 == 0 or i == (epoch - 1):\n",
    "            if i == epoch -1:\n",
    "                plot_cm = True\n",
    "            else:\n",
    "                plot_cm = False\n",
    "            test_acc = test([adjs, adjs_T, train_idx, test_idx, device_applabel, labels], model, plot_cm)\n",
    "            if test_acc > best_test:\n",
    "                best_test = test_acc\n",
    "                DATA = 'gdrive/My Drive/247/data'\n",
    "                print('save model current best acc {}'.format(best_test))\n",
    "                torch.save(model.state_dict(), os.path.join(DATA,'best_model.pth'))\n"
   ]
  },
  {
   "cell_type": "code",
   "execution_count": 0,
   "metadata": {
    "colab": {},
    "colab_type": "code",
    "id": "j_s936Wng-D0"
   },
   "outputs": [],
   "source": [
    "def test(data, model, plot_confusion =False):\n",
    "    [adjs, adjs_T, train_idx, test_idx, device_applabel, labels] = data\n",
    "    active, installed = adjs\n",
    "    active_T, installed_T = adjs_T\n",
    "    l1_act = sparse_mx_to_torch_sparse_tensor(active_T[:, train_idx])\n",
    "    l1_ins = sparse_mx_to_torch_sparse_tensor(installed_T[:, train_idx])\n",
    "    l2_act = sparse_mx_to_torch_sparse_tensor(active[test_idx])\n",
    "    l2_ins = sparse_mx_to_torch_sparse_tensor(installed[test_idx])\n",
    "    extra_fea = sparse_mx_to_torch_sparse_tensor(device_applabel[test_idx])\n",
    "    \n",
    "    if torch.cuda.is_available():\n",
    "        l1_act = l1_act.cuda(0)\n",
    "        l2_act = l2_act.cuda(0)\n",
    "        l1_ins = l1_ins.cuda(0)\n",
    "        l2_ins = l2_ins.cuda(0)\n",
    "        extra_fea = extra_fea.cuda(0)\n",
    "        labels = labels.cuda(0)\n",
    "    \n",
    "    adj1 = [l1_act, l1_ins]\n",
    "    adj2 = [l2_act, l2_ins]\n",
    "    features = F.one_hot(labels[train_idx]).float()\n",
    "    test_label = labels[test_idx]\n",
    "     \n",
    "    model.eval()\n",
    "    output = model(features, extra_fea, adj1, adj2, train_idx)\n",
    "    loss_test = F.nll_loss(output, test_label)\n",
    "    acc_test = accuracy(output, test_label)\n",
    "    acc_k_test = top_k_accuracy(output, test_label, 3)\n",
    "    print(\"Test set results:\",\n",
    "          \"loss= {:.4f}\".format(loss_test.item()),\n",
    "          \"accuracy= {:.4f}\".format(acc_test.item()),\n",
    "          \"accuracy@3= {:.4f}\".format(acc_k_test.item()))\n",
    "    \n",
    "    classes = unique_labels(labels)\n",
    "    \n",
    "    if plot_confusion:\n",
    "        plot_confusion_matrix(test_label, output, classes, normalize=True)\n",
    "    return acc_test.item()"
   ]
  },
  {
   "cell_type": "code",
   "execution_count": 0,
   "metadata": {
    "colab": {},
    "colab_type": "code",
    "id": "9lv04oL9NTVo"
   },
   "outputs": [],
   "source": [
    "def calculate_laplacian(adj):\n",
    "    total_nodes = adj.shape[0]\n",
    "    adj = adj + sp.identity(total_nodes)\n",
    "    degree = adj.sum(axis=1)\n",
    "    degree_sqrt_inv = np.sqrt(1.0 / degree).reshape(1, -1)\n",
    "    D_sqrt_inv = sp.diags(degree_sqrt_inv, [0], shape=(total_nodes, total_nodes))\n",
    "    adj_tilde = np.dot(np.dot(D_sqrt_inv, adj), D_sqrt_inv)\n",
    "    return adj_tilde"
   ]
  },
  {
   "cell_type": "code",
   "execution_count": 0,
   "metadata": {
    "colab": {},
    "colab_type": "code",
    "id": "PyTkVM9kg-D8"
   },
   "outputs": [],
   "source": [
    "\n",
    "def main():\n",
    "\n",
    "    args = easydict.EasyDict({\n",
    "        \"epochs\": 1,\n",
    "        \"lr\": 0.001,\n",
    "        \"weight_decay\": 1e-5,\n",
    "        \"hidden\": 96,\n",
    "        \"dropout\": 0.2\n",
    "    })\n",
    "\n",
    "    CUDA = torch.cuda.is_available()\n",
    "    np.random.seed(42)\n",
    "    torch.manual_seed(42)\n",
    "    if CUDA:\n",
    "        torch.cuda.manual_seed(42)\n",
    "\n",
    "    DATA = 'gdrive/My Drive/247/data'\n",
    "    \n",
    "    # active is in the shape of (peole, device); active_T is in the shape of (device, people)\n",
    "    active = sp.load_npz(os.path.join(DATA, 'active.npz'))\n",
    "    active_T = active.transpose()\n",
    "    active_T = normalize(active_T, norm='l1', axis=1)\n",
    "    installed = sp.load_npz(os.path.join(DATA, 'installed.npz'))\n",
    "    installed_T = installed.transpose()\n",
    "    installed_T = normalize(installed_T, norm='l1', axis=1)  \n",
    "    \n",
    "    device_applabel = sp.load_npz(os.path.join(DATA, 'active_wapplabel.npz'))\n",
    "   \n",
    "    adjs = [active, installed]\n",
    "    adjs_T = [active_T, installed_T]\n",
    "    \n",
    "    train_idx = np.load(os.path.join(DATA, 'train_idx.npy'))\n",
    "    test_idx = np.load(os.path.join(DATA,'test_idx.npy'))\n",
    "    train_wapp_idx = np.load(os.path.join(DATA, 'train_idx.npy')) # this is the data we used to propagate label out, we originally tried to use just those user with app information but then we find use all the data give us better results \n",
    "    labels = np.load(os.path.join(DATA,'label.npy'))\n",
    "    labels = torch.LongTensor(labels)\n",
    "\n",
    "    rGCN_model = rGCN(len(adjs),\n",
    "                12, # the first layer input is just one-hot embedding of the 12 classes\n",
    "                args.hidden,\n",
    "                labels.max().item() + 1,\n",
    "                args.dropout, active.shape[0], active.shape[1])\n",
    "    if os.path.exists(os.path.join(DATA,'best_model.pth')):\n",
    "        rGCN_model.load_state_dict(torch.load(os.path.join(DATA,'best_model.pth')))\n",
    "    optimizer = optim.Adam(rGCN_model.parameters(),\n",
    "                           lr=args.lr, weight_decay=args.weight_decay)\n",
    "\n",
    "    \n",
    "    if CUDA:\n",
    "        rGCN_model.cuda(0)\n",
    "    print(\"start training\")\n",
    "    train([adjs, adjs_T, train_idx, test_idx,train_wapp_idx, device_applabel, labels], rGCN_model, optimizer, args.epochs)"
   ]
  },
  {
   "cell_type": "code",
   "execution_count": 41,
   "metadata": {
    "colab": {
     "base_uri": "https://localhost:8080/",
     "height": 387
    },
    "colab_type": "code",
    "executionInfo": {
     "elapsed": 4271,
     "status": "ok",
     "timestamp": 1560370167866,
     "user": {
      "displayName": "YAXUAN ZHU",
      "photoUrl": "",
      "userId": "17993149116436288201"
     },
     "user_tz": 420
    },
    "id": "Es_ifPduMUWR",
    "outputId": "c7b64580-b4d9-40df-99b9-5a656e690f93"
   },
   "outputs": [
    {
     "name": "stdout",
     "output_type": "stream",
     "text": [
      "start training\n",
      "Epoch: 0001 loss_train: 1.9810 acc_train: 0.3102 time: 1.8784s\n",
      "Test set results: loss= 2.3709 accuracy= 0.2024 accuracy@3= 0.4605\n",
      "Normalized confusion matrix\n",
      "save model current best acc 0.20235782704802732\n"
     ]
    },
    {
     "data": {
      "image/png": "[encoded data removed]",
      "text/plain": [
       "<Figure size 432x288 with 2 Axes>"
      ]
     },
     "metadata": {
      "tags": []
     },
     "output_type": "display_data"
    }
   ],
   "source": [
    "main()"
   ]
  }
 ],
 "metadata": {
  "accelerator": "TPU",
  "colab": {
   "collapsed_sections": [],
   "name": "GCN.ipynb",
   "provenance": [],
   "version": "0.3.2"
  },
  "kernelspec": {
   "display_name": "Python 3",
   "language": "python",
   "name": "python3"
  },
  "language_info": {
   "codemirror_mode": {
    "name": "ipython",
    "version": 3
   },
   "file_extension": ".py",
   "mimetype": "text/x-python",
   "name": "python",
   "nbconvert_exporter": "python",
   "pygments_lexer": "ipython3",
   "version": "3.6.4"
  }
 },
 "nbformat": 4,
 "nbformat_minor": 1
}
